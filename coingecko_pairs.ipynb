{
 "cells": [
  {
   "cell_type": "code",
   "execution_count": 22,
   "id": "fe040c69",
   "metadata": {},
   "outputs": [],
   "source": [
    "import requests\n",
    "import pandas as pd"
   ]
  },
  {
   "cell_type": "code",
   "execution_count": 23,
   "id": "40c26a4a",
   "metadata": {},
   "outputs": [],
   "source": [
    "# Send a GET request to the CoinGecko API\n",
    "response = requests.get(\"https://api.coingecko.com/api/v3/simple/supported_vs_currencies\")"
   ]
  },
  {
   "cell_type": "code",
   "execution_count": 24,
   "id": "3297ed72",
   "metadata": {},
   "outputs": [
    {
     "data": {
      "text/plain": [
       "200"
      ]
     },
     "execution_count": 24,
     "metadata": {},
     "output_type": "execute_result"
    }
   ],
   "source": [
    "response.status_code"
   ]
  },
  {
   "cell_type": "code",
   "execution_count": 25,
   "id": "c9a6afca",
   "metadata": {},
   "outputs": [],
   "source": [
    "# Retrieve the JSON data from the response\n",
    "vs_currencies = response.json()"
   ]
  },
  {
   "cell_type": "code",
   "execution_count": 26,
   "id": "7e550c6f",
   "metadata": {},
   "outputs": [
    {
     "name": "stdout",
     "output_type": "stream",
     "text": [
      "['btc', 'eth', 'ltc', 'bch', 'bnb', 'eos', 'xrp', 'xlm', 'link', 'dot', 'yfi', 'usd', 'aed', 'ars', 'aud', 'bdt', 'bhd', 'bmd', 'brl', 'cad', 'chf', 'clp', 'cny', 'czk', 'dkk', 'eur', 'gbp', 'hkd', 'huf', 'idr', 'ils', 'inr', 'jpy', 'krw', 'kwd', 'lkr', 'mmk', 'mxn', 'myr', 'ngn', 'nok', 'nzd', 'php', 'pkr', 'pln', 'rub', 'sar', 'sek', 'sgd', 'thb', 'try', 'twd', 'uah', 'vef', 'vnd', 'zar', 'xdr', 'xag', 'xau', 'bits', 'sats']\n"
     ]
    }
   ],
   "source": [
    "# Currencies used to buy crypto (includes fiat (JPY, USD)), for some reason excludes stablecoins\n",
    "print(vs_currencies)"
   ]
  },
  {
   "cell_type": "code",
   "execution_count": 27,
   "id": "1ac53fb8",
   "metadata": {},
   "outputs": [],
   "source": [
    "r = requests.get('https://api.coingecko.com/api/v3/coins/list')\n",
    "coins = pd.DataFrame(r.json())"
   ]
  },
  {
   "cell_type": "code",
   "execution_count": 28,
   "id": "f6ed528b",
   "metadata": {},
   "outputs": [
    {
     "data": {
      "text/html": [
       "<div>\n",
       "<style scoped>\n",
       "    .dataframe tbody tr th:only-of-type {\n",
       "        vertical-align: middle;\n",
       "    }\n",
       "\n",
       "    .dataframe tbody tr th {\n",
       "        vertical-align: top;\n",
       "    }\n",
       "\n",
       "    .dataframe thead th {\n",
       "        text-align: right;\n",
       "    }\n",
       "</style>\n",
       "<table border=\"1\" class=\"dataframe\">\n",
       "  <thead>\n",
       "    <tr style=\"text-align: right;\">\n",
       "      <th></th>\n",
       "      <th>id</th>\n",
       "      <th>symbol</th>\n",
       "      <th>name</th>\n",
       "    </tr>\n",
       "  </thead>\n",
       "  <tbody>\n",
       "    <tr>\n",
       "      <th>0</th>\n",
       "      <td>01coin</td>\n",
       "      <td>zoc</td>\n",
       "      <td>01coin</td>\n",
       "    </tr>\n",
       "    <tr>\n",
       "      <th>1</th>\n",
       "      <td>0chain</td>\n",
       "      <td>zcn</td>\n",
       "      <td>Zus</td>\n",
       "    </tr>\n",
       "    <tr>\n",
       "      <th>2</th>\n",
       "      <td>0vix-protocol</td>\n",
       "      <td>vix</td>\n",
       "      <td>0VIX Protocol</td>\n",
       "    </tr>\n",
       "    <tr>\n",
       "      <th>3</th>\n",
       "      <td>0x</td>\n",
       "      <td>zrx</td>\n",
       "      <td>0x Protocol</td>\n",
       "    </tr>\n",
       "    <tr>\n",
       "      <th>4</th>\n",
       "      <td>0x0-ai-ai-smart-contract</td>\n",
       "      <td>0x0</td>\n",
       "      <td>0x0.ai: AI Smart Contract</td>\n",
       "    </tr>\n",
       "    <tr>\n",
       "      <th>...</th>\n",
       "      <td>...</td>\n",
       "      <td>...</td>\n",
       "      <td>...</td>\n",
       "    </tr>\n",
       "    <tr>\n",
       "      <th>10009</th>\n",
       "      <td>zynergy</td>\n",
       "      <td>zyn</td>\n",
       "      <td>Zynergy</td>\n",
       "    </tr>\n",
       "    <tr>\n",
       "      <th>10010</th>\n",
       "      <td>zyro</td>\n",
       "      <td>zyro</td>\n",
       "      <td>Zyro</td>\n",
       "    </tr>\n",
       "    <tr>\n",
       "      <th>10011</th>\n",
       "      <td>zyrri</td>\n",
       "      <td>zyr</td>\n",
       "      <td>Zyrri</td>\n",
       "    </tr>\n",
       "    <tr>\n",
       "      <th>10012</th>\n",
       "      <td>zyx</td>\n",
       "      <td>zyx</td>\n",
       "      <td>ZYX</td>\n",
       "    </tr>\n",
       "    <tr>\n",
       "      <th>10013</th>\n",
       "      <td>zzz</td>\n",
       "      <td>zzz</td>\n",
       "      <td>GoSleep ZZZ</td>\n",
       "    </tr>\n",
       "  </tbody>\n",
       "</table>\n",
       "<p>10014 rows × 3 columns</p>\n",
       "</div>"
      ],
      "text/plain": [
       "                             id symbol                       name\n",
       "0                        01coin    zoc                     01coin\n",
       "1                        0chain    zcn                        Zus\n",
       "2                 0vix-protocol    vix              0VIX Protocol\n",
       "3                            0x    zrx                0x Protocol\n",
       "4      0x0-ai-ai-smart-contract    0x0  0x0.ai: AI Smart Contract\n",
       "...                         ...    ...                        ...\n",
       "10009                   zynergy    zyn                    Zynergy\n",
       "10010                      zyro   zyro                       Zyro\n",
       "10011                     zyrri    zyr                      Zyrri\n",
       "10012                       zyx    zyx                        ZYX\n",
       "10013                       zzz    zzz                GoSleep ZZZ\n",
       "\n",
       "[10014 rows x 3 columns]"
      ]
     },
     "execution_count": 28,
     "metadata": {},
     "output_type": "execute_result"
    }
   ],
   "source": [
    "coins"
   ]
  },
  {
   "cell_type": "code",
   "execution_count": 41,
   "id": "9bda8264",
   "metadata": {},
   "outputs": [],
   "source": [
    "def get_VE(coins, vs_currencies, base='BTC',target='USDT'):\n",
    "    \n",
    "    global test_X, test_r\n",
    "    \n",
    "    if target.lower() not in vs_currencies:\n",
    "        print('Warning target currency not in vs_currencies:{}'.format(target))\n",
    "\n",
    "    \n",
    "    try:\n",
    "        coinid = list(coins[coins['symbol']==base.lower()]['id'])[0]\n",
    "        print(coinid)\n",
    "    except:\n",
    "        print('Invalid base coin:{}'.format(base))\n",
    "        return None, -2\n",
    "\n",
    "    api_call = 'https://api.coingecko.com/api/v3/coins/{}/tickers'.format(coinid)\n",
    "    try:\n",
    "        print(api_call)\n",
    "        r = requests.get(api_call)\n",
    "    except:\n",
    "        print('API endpoint unreachable'.format(r.status_code))\n",
    "        return None, -3\n",
    "    \n",
    "    if r.status_code==429:\n",
    "        print('Too many requests')\n",
    "        return None, 429\n",
    "    if r.status_code==200:\n",
    "        try:\n",
    "            X = pd.DataFrame(r.json()['tickers'])\n",
    "        except:\n",
    "            print('Cannot convert json payload to dataframe')\n",
    "            # dump r to json\n",
    "            return None, -4\n",
    "\n",
    "        if X.empty:\n",
    "            print('No such pair exists: {}-{}'.format(base, target))\n",
    "            return None, 0\n",
    "        \n",
    "        X = X[X['target']==target]\n",
    "        \n",
    "        if X.empty:\n",
    "            print('No such pair exists: {}-{}'.format(base, target))\n",
    "            return None, 0\n",
    "\n",
    "        try:\n",
    "            X['exchange_name'] = X['market'].transform(lambda x: x['name'])\n",
    "        except:\n",
    "            print('Cannot extract exchange name')\n",
    "            X['exchange_name'] = None\n",
    "        return X, 200\n",
    "   \n",
    "    "
   ]
  },
  {
   "cell_type": "code",
   "execution_count": 60,
   "id": "448e354c",
   "metadata": {},
   "outputs": [
    {
     "name": "stdout",
     "output_type": "stream",
     "text": [
      "ethereum\n",
      "https://api.coingecko.com/api/v3/coins/ethereum/tickers\n",
      "Status code: 200\n"
     ]
    }
   ],
   "source": [
    "Z = get_VE(coins,vs_currencies, base='ETH',target='BTC')\n",
    "print('Status code:', Z[1])"
   ]
  },
  {
   "cell_type": "code",
   "execution_count": 61,
   "id": "bca83957",
   "metadata": {},
   "outputs": [
    {
     "data": {
      "text/html": [
       "<div>\n",
       "<style scoped>\n",
       "    .dataframe tbody tr th:only-of-type {\n",
       "        vertical-align: middle;\n",
       "    }\n",
       "\n",
       "    .dataframe tbody tr th {\n",
       "        vertical-align: top;\n",
       "    }\n",
       "\n",
       "    .dataframe thead th {\n",
       "        text-align: right;\n",
       "    }\n",
       "</style>\n",
       "<table border=\"1\" class=\"dataframe\">\n",
       "  <thead>\n",
       "    <tr style=\"text-align: right;\">\n",
       "      <th></th>\n",
       "      <th>base</th>\n",
       "      <th>target</th>\n",
       "      <th>market</th>\n",
       "      <th>last</th>\n",
       "      <th>volume</th>\n",
       "      <th>converted_last</th>\n",
       "      <th>converted_volume</th>\n",
       "      <th>trust_score</th>\n",
       "      <th>bid_ask_spread_percentage</th>\n",
       "      <th>timestamp</th>\n",
       "      <th>last_traded_at</th>\n",
       "      <th>last_fetch_at</th>\n",
       "      <th>is_anomaly</th>\n",
       "      <th>is_stale</th>\n",
       "      <th>trade_url</th>\n",
       "      <th>token_info_url</th>\n",
       "      <th>coin_id</th>\n",
       "      <th>target_coin_id</th>\n",
       "      <th>exchange_name</th>\n",
       "    </tr>\n",
       "  </thead>\n",
       "  <tbody>\n",
       "    <tr>\n",
       "      <th>8</th>\n",
       "      <td>ETH</td>\n",
       "      <td>BTC</td>\n",
       "      <td>{'name': 'Binance', 'identifier': 'binance', '...</td>\n",
       "      <td>0.069560</td>\n",
       "      <td>14258.982141</td>\n",
       "      <td>{'btc': 0.06956, 'eth': 1.000155, 'usd': 1843.17}</td>\n",
       "      <td>{'btc': 991.855, 'eth': 14261, 'usd': 26281715}</td>\n",
       "      <td>green</td>\n",
       "      <td>0.014376</td>\n",
       "      <td>2023-06-09T18:30:36+00:00</td>\n",
       "      <td>2023-06-09T18:30:36+00:00</td>\n",
       "      <td>2023-06-09T18:30:36+00:00</td>\n",
       "      <td>False</td>\n",
       "      <td>False</td>\n",
       "      <td>https://www.binance.com/en/trade/ETH_BTC?ref=3...</td>\n",
       "      <td>None</td>\n",
       "      <td>ethereum</td>\n",
       "      <td>bitcoin</td>\n",
       "      <td>Binance</td>\n",
       "    </tr>\n",
       "    <tr>\n",
       "      <th>12</th>\n",
       "      <td>ETH</td>\n",
       "      <td>BTC</td>\n",
       "      <td>{'name': 'Pionex', 'identifier': 'pionex', 'ha...</td>\n",
       "      <td>0.069536</td>\n",
       "      <td>8246.439100</td>\n",
       "      <td>{'btc': 0.069536, 'eth': 0.99950036, 'usd': 18...</td>\n",
       "      <td>{'btc': 572.393, 'eth': 8227, 'usd': 15160603}</td>\n",
       "      <td>green</td>\n",
       "      <td>0.017190</td>\n",
       "      <td>2023-06-09T18:34:24+00:00</td>\n",
       "      <td>2023-06-09T18:34:24+00:00</td>\n",
       "      <td>2023-06-09T18:34:24+00:00</td>\n",
       "      <td>False</td>\n",
       "      <td>False</td>\n",
       "      <td>https://www.pionex.com/en/trade/ETH_BTC/Bot</td>\n",
       "      <td>None</td>\n",
       "      <td>ethereum</td>\n",
       "      <td>bitcoin</td>\n",
       "      <td>Pionex</td>\n",
       "    </tr>\n",
       "    <tr>\n",
       "      <th>14</th>\n",
       "      <td>ETH</td>\n",
       "      <td>BTC</td>\n",
       "      <td>{'name': 'Tidex', 'identifier': 'tidex', 'has_...</td>\n",
       "      <td>0.069573</td>\n",
       "      <td>1262.309758</td>\n",
       "      <td>{'btc': 0.06957348, 'eth': 0.99990459, 'usd': ...</td>\n",
       "      <td>{'btc': 87.823, 'eth': 1262, 'usd': 2323063}</td>\n",
       "      <td>green</td>\n",
       "      <td>0.010004</td>\n",
       "      <td>2023-06-09T18:35:23+00:00</td>\n",
       "      <td>2023-06-09T18:35:23+00:00</td>\n",
       "      <td>2023-06-09T18:35:23+00:00</td>\n",
       "      <td>False</td>\n",
       "      <td>False</td>\n",
       "      <td>None</td>\n",
       "      <td>None</td>\n",
       "      <td>ethereum</td>\n",
       "      <td>bitcoin</td>\n",
       "      <td>Tidex</td>\n",
       "    </tr>\n",
       "    <tr>\n",
       "      <th>18</th>\n",
       "      <td>ETH</td>\n",
       "      <td>BTC</td>\n",
       "      <td>{'name': 'Bitstamp', 'identifier': 'bitstamp',...</td>\n",
       "      <td>0.069554</td>\n",
       "      <td>402.299884</td>\n",
       "      <td>{'btc': 0.06955352, 'eth': 1.000034, 'usd': 18...</td>\n",
       "      <td>{'btc': 27.981373, 'eth': 402.314, 'usd': 741283}</td>\n",
       "      <td>green</td>\n",
       "      <td>0.040661</td>\n",
       "      <td>2023-06-09T18:32:59+00:00</td>\n",
       "      <td>2023-06-09T18:32:59+00:00</td>\n",
       "      <td>2023-06-09T18:32:59+00:00</td>\n",
       "      <td>False</td>\n",
       "      <td>False</td>\n",
       "      <td>https://www.bitstamp.net/markets/eth/btc/</td>\n",
       "      <td>None</td>\n",
       "      <td>ethereum</td>\n",
       "      <td>bitcoin</td>\n",
       "      <td>Bitstamp</td>\n",
       "    </tr>\n",
       "    <tr>\n",
       "      <th>30</th>\n",
       "      <td>ETH</td>\n",
       "      <td>BTC</td>\n",
       "      <td>{'name': 'Ace', 'identifier': 'ace', 'has_trad...</td>\n",
       "      <td>0.069575</td>\n",
       "      <td>125.296000</td>\n",
       "      <td>{'btc': 0.069575, 'eth': 1.000061, 'usd': 1842...</td>\n",
       "      <td>{'btc': 8.700116, 'eth': 125.054, 'usd': 230434}</td>\n",
       "      <td>green</td>\n",
       "      <td>0.061798</td>\n",
       "      <td>2023-06-09T18:34:17+00:00</td>\n",
       "      <td>2023-06-09T18:34:17+00:00</td>\n",
       "      <td>2023-06-09T18:34:17+00:00</td>\n",
       "      <td>False</td>\n",
       "      <td>False</td>\n",
       "      <td>https://ace.io/trade/ETH/BTC</td>\n",
       "      <td>None</td>\n",
       "      <td>ethereum</td>\n",
       "      <td>bitcoin</td>\n",
       "      <td>Ace</td>\n",
       "    </tr>\n",
       "  </tbody>\n",
       "</table>\n",
       "</div>"
      ],
      "text/plain": [
       "   base target                                             market      last  \\\n",
       "8   ETH    BTC  {'name': 'Binance', 'identifier': 'binance', '...  0.069560   \n",
       "12  ETH    BTC  {'name': 'Pionex', 'identifier': 'pionex', 'ha...  0.069536   \n",
       "14  ETH    BTC  {'name': 'Tidex', 'identifier': 'tidex', 'has_...  0.069573   \n",
       "18  ETH    BTC  {'name': 'Bitstamp', 'identifier': 'bitstamp',...  0.069554   \n",
       "30  ETH    BTC  {'name': 'Ace', 'identifier': 'ace', 'has_trad...  0.069575   \n",
       "\n",
       "          volume                                     converted_last  \\\n",
       "8   14258.982141  {'btc': 0.06956, 'eth': 1.000155, 'usd': 1843.17}   \n",
       "12   8246.439100  {'btc': 0.069536, 'eth': 0.99950036, 'usd': 18...   \n",
       "14   1262.309758  {'btc': 0.06957348, 'eth': 0.99990459, 'usd': ...   \n",
       "18    402.299884  {'btc': 0.06955352, 'eth': 1.000034, 'usd': 18...   \n",
       "30    125.296000  {'btc': 0.069575, 'eth': 1.000061, 'usd': 1842...   \n",
       "\n",
       "                                     converted_volume trust_score  \\\n",
       "8     {'btc': 991.855, 'eth': 14261, 'usd': 26281715}       green   \n",
       "12     {'btc': 572.393, 'eth': 8227, 'usd': 15160603}       green   \n",
       "14       {'btc': 87.823, 'eth': 1262, 'usd': 2323063}       green   \n",
       "18  {'btc': 27.981373, 'eth': 402.314, 'usd': 741283}       green   \n",
       "30   {'btc': 8.700116, 'eth': 125.054, 'usd': 230434}       green   \n",
       "\n",
       "    bid_ask_spread_percentage                  timestamp  \\\n",
       "8                    0.014376  2023-06-09T18:30:36+00:00   \n",
       "12                   0.017190  2023-06-09T18:34:24+00:00   \n",
       "14                   0.010004  2023-06-09T18:35:23+00:00   \n",
       "18                   0.040661  2023-06-09T18:32:59+00:00   \n",
       "30                   0.061798  2023-06-09T18:34:17+00:00   \n",
       "\n",
       "               last_traded_at              last_fetch_at  is_anomaly  \\\n",
       "8   2023-06-09T18:30:36+00:00  2023-06-09T18:30:36+00:00       False   \n",
       "12  2023-06-09T18:34:24+00:00  2023-06-09T18:34:24+00:00       False   \n",
       "14  2023-06-09T18:35:23+00:00  2023-06-09T18:35:23+00:00       False   \n",
       "18  2023-06-09T18:32:59+00:00  2023-06-09T18:32:59+00:00       False   \n",
       "30  2023-06-09T18:34:17+00:00  2023-06-09T18:34:17+00:00       False   \n",
       "\n",
       "    is_stale                                          trade_url  \\\n",
       "8      False  https://www.binance.com/en/trade/ETH_BTC?ref=3...   \n",
       "12     False        https://www.pionex.com/en/trade/ETH_BTC/Bot   \n",
       "14     False                                               None   \n",
       "18     False          https://www.bitstamp.net/markets/eth/btc/   \n",
       "30     False                       https://ace.io/trade/ETH/BTC   \n",
       "\n",
       "   token_info_url   coin_id target_coin_id exchange_name  \n",
       "8            None  ethereum        bitcoin       Binance  \n",
       "12           None  ethereum        bitcoin        Pionex  \n",
       "14           None  ethereum        bitcoin         Tidex  \n",
       "18           None  ethereum        bitcoin      Bitstamp  \n",
       "30           None  ethereum        bitcoin           Ace  "
      ]
     },
     "execution_count": 61,
     "metadata": {},
     "output_type": "execute_result"
    }
   ],
   "source": [
    "Z[0].head()"
   ]
  },
  {
   "cell_type": "code",
   "execution_count": 64,
   "id": "3ae048c2",
   "metadata": {},
   "outputs": [
    {
     "name": "stdout",
     "output_type": "stream",
     "text": [
      "Some of the exchanges where you can buy ETH with BTC\n"
     ]
    },
    {
     "data": {
      "text/plain": [
       "['Binance',\n",
       " 'Pionex',\n",
       " 'Tidex',\n",
       " 'Bitstamp',\n",
       " 'Ace',\n",
       " 'Coinsbit',\n",
       " 'XT.COM',\n",
       " 'Coinbase Exchange',\n",
       " 'Txbit',\n",
       " 'OKX']"
      ]
     },
     "execution_count": 64,
     "metadata": {},
     "output_type": "execute_result"
    }
   ],
   "source": [
    "print('Some of the exchanges where you can buy ETH with BTC')\n",
    "list(Z[0].head(10)['exchange_name'])"
   ]
  },
  {
   "cell_type": "code",
   "execution_count": 58,
   "id": "582175a4",
   "metadata": {},
   "outputs": [
    {
     "name": "stdout",
     "output_type": "stream",
     "text": [
      "ethereum\n",
      "https://api.coingecko.com/api/v3/coins/ethereum/tickers\n",
      "No such pair exists: ETH-PLN\n",
      "Status code: 0\n"
     ]
    }
   ],
   "source": [
    "Z = get_VE(coins,vs_currencies, base='ETH',target='PLN')\n",
    "print('Status code:', Z[1])"
   ]
  },
  {
   "cell_type": "markdown",
   "id": "4a2f3f92",
   "metadata": {},
   "source": [
    "Cannot buy ethereum directly with Zloty"
   ]
  }
 ],
 "metadata": {
  "kernelspec": {
   "display_name": "Python 3 (ipykernel)",
   "language": "python",
   "name": "python3"
  },
  "language_info": {
   "codemirror_mode": {
    "name": "ipython",
    "version": 3
   },
   "file_extension": ".py",
   "mimetype": "text/x-python",
   "name": "python",
   "nbconvert_exporter": "python",
   "pygments_lexer": "ipython3",
   "version": "3.9.12"
  }
 },
 "nbformat": 4,
 "nbformat_minor": 5
}
